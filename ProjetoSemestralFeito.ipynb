{
  "cells": [
    {
      "cell_type": "markdown",
      "metadata": {
        "id": "40b90843"
      },
      "source": [
        "<img src=\"http://meusite.mackenzie.br/rogerio/mackenzie_logo/UPM.2_horizontal_vermelho.jpg\"  width=300, align=\"right\">\n",
        "<br>\n",
        "<br>\n",
        "<br>\n",
        "<br>\n",
        "<br>\n",
        "\n",
        "# **Template para o Colab do Projeto Semestral**\n",
        "---\n",
        "\n",
        "Atenção, podem ser que nem todas as tarefas sejam executadas no Colab (a aplicação por exemplo, pode estar hospedada no streamlit cloud). Mas a maior parte pode estar aqui ou ao menos indicada e comentada.\n"
      ]
    },
    {
      "cell_type": "markdown",
      "metadata": {
        "id": "qR6kcPlTeV_n"
      },
      "source": [
        "Além disso a entrega deve incluir:\n",
        "\n",
        "1. **Um GitHub público do projeto**\n",
        "2. **Código completo e executável em um notebook Python (este template)**\n",
        "3. **Uma aplicação streamlit para consumo do modelo**\n",
        "4. **Um texto/artigo do projeto**\n",
        "5. **Um vídeo (link YouTube ou outro) de no máximo 3min de apresentação do projeto**\n",
        "\n",
        "Um **`readme.md`** no GitHub público do projeto deve indicar (um índice) cada uma dessas entregas.\n",
        "\n",
        "\n",
        "\n",
        "\n",
        "\n",
        "\n"
      ]
    },
    {
      "cell_type": "code",
      "execution_count": null,
      "metadata": {
        "cellView": "form",
        "id": "rYx9D4GZA5o9"
      },
      "outputs": [
        {
          "ename": "",
          "evalue": "",
          "output_type": "error",
          "traceback": [
            "\u001b[1;31mRunning cells with 'Python 3.11.9' requires the ipykernel package.\n",
            "\u001b[1;31m<a href='command:jupyter.createPythonEnvAndSelectController'>Create a Python Environment</a> with the required packages.\n",
            "\u001b[1;31mOr install 'ipykernel' using the command: 'c:/Users/Estagiario/AppData/Local/Microsoft/WindowsApps/python3.11.exe -m pip install ipykernel -U --user --force-reinstall'"
          ]
        }
      ],
      "source": [
        "#@title **Identificação do Grupo**\n",
        "\n",
        "#@markdown Integrantes do Grupo, nome completo em orgem alfabética (*informe \\<RA\\>,\\<nome\\>*)\n",
        "Aluno1 = '10402792, Gabriel Demarqui' #@param {type:\"string\"}\n",
        "Aluno2 = '10401556, Guilherme Abilio' #@param {type:\"string\"}\n",
        "Aluno3 = 'None' #@param {type:\"string\"}\n",
        "Aluno4 = 'None' #@param {type:\"string\"}\n",
        "Aluno5 = 'None' #@param {type:\"string\"}\n",
        "\n"
      ]
    },
    {
      "cell_type": "code",
      "execution_count": null,
      "metadata": {
        "cellView": "form",
        "id": "-MbC50IHTmh3"
      },
      "outputs": [],
      "source": [
        "#@title Assinale aqui a sua opção de Projeto\n",
        "Projeto = \"IA Aplicada a Imagens: Uso de Modelos de Redes Neurais\" #@param [\"IA Aplicada a Imagens: Uso de Modelos de Redes Neurais\", \"IA Aplicada a Documentos: Uso de Grandes Modelos de Linguagem Abertos\"]\n",
        "\n",
        "\n"
      ]
    },
    {
      "cell_type": "markdown",
      "metadata": {
        "id": "yxYbSf6mVM7y"
      },
      "source": [
        "# **Resumo**\n",
        "\n",
        "Apresente um \"abstract\" do seu projeto.\n",
        "\n",
        "1. Objetivo do projeto\n",
        "2. Fontes dos dados e dados originais (coletados)\n",
        "3. Ferramentas/pacotes de IA a serem utilizados para a construção da solução\n",
        "4. Um prévia dos resultados."
      ]
    },
    {
      "cell_type": "code",
      "execution_count": null,
      "metadata": {},
      "outputs": [],
      "source": [
        "### 🧠 **Resumo do Projeto**\n",
        "\n",
        "**Objetivo do Projeto:**  \n",
        "Desenvolver uma solução baseada em inteligência artificial capaz de classificar imagens de raios-X em categorias como “normal” ou “pneumonia”, com o objetivo de auxiliar no diagnóstico médico rápido e preciso, especialmente em ambientes com recursos limitados.\n",
        "\n",
        "**Fontes dos dados e dados originais (coletados):**  \n",
        "O conjunto de dados utilizado é o **Chest X-Ray Images (Pneumonia)**, disponível gratuitamente no repositório do [Kaggle](https://www.kaggle.com/datasets/paultimothymooney/chest-xray-pneumonia). Ele contém imagens de raios-X de tórax classificadas como **normal** e **pneumonia** (viral ou bacteriana).\n",
        "\n",
        "**Ferramentas/pacotes de IA a serem utilizados:**  \n",
        "- **Python 3** como linguagem principal  \n",
        "- **Pandas** e **NumPy** para manipulação de dados  \n",
        "- **Matplotlib** e **Seaborn** para visualização  \n",
        "- **TensorFlow** e **Keras** para construção de modelos de redes neurais convolucionais (CNN)  \n",
        "- **OpenCV** para pré-processamento de imagens  \n",
        "- **Streamlit** para desenvolvimento da aplicação web interativa\n",
        "\n",
        "**Uma prévia dos resultados:**  \n",
        "A versão preliminar do modelo baseado em CNN apresentou uma acurácia de aproximadamente **90%** na validação, demonstrando um bom desempenho na detecção automática de pneumonia a partir das imagens de raio-X.\n"
      ]
    },
    {
      "cell_type": "markdown",
      "metadata": {
        "id": "ctroSu6jNABS"
      },
      "source": [
        "# **Apresentação dos dados**\n",
        "\n",
        "Inclua link, amostras dos dados."
      ]
    },
    {
      "cell_type": "code",
      "execution_count": null,
      "metadata": {},
      "outputs": [],
      "source": [
        "### 📁 Apresentação dos Dados\n",
        "\n",
        "O conjunto de dados utilizado neste projeto é o **Chest X-Ray Images (Pneumonia)**, disponível no Kaggle através do link:\n",
        "\n",
        "🔗 [https://www.kaggle.com/datasets/paultimothymooney/chest-xray-pneumonia](https://www.kaggle.com/datasets/paultimothymooney/chest-xray-pneumonia)\n",
        "\n",
        "O dataset está dividido em três pastas:\n",
        "\n",
        "- `train/` — imagens usadas para o treinamento do modelo  \n",
        "- `val/` — imagens usadas para validação  \n",
        "- `test/` — imagens usadas para testar o desempenho final\n",
        "\n",
        "Cada pasta contém duas subpastas:\n",
        "- `NORMAL/` — imagens sem sinais de pneumonia\n",
        "- `PNEUMONIA/` — imagens com diagnóstico positivo\n",
        "\n",
        "Abaixo, exibimos algumas amostras de imagens do dataset.\n"
      ]
    },
    {
      "cell_type": "code",
      "execution_count": null,
      "metadata": {},
      "outputs": [
        {
          "ename": "",
          "evalue": "",
          "output_type": "error",
          "traceback": [
            "\u001b[1;31mRunning cells with 'Python 3.11.9' requires the ipykernel package.\n",
            "\u001b[1;31m<a href='command:jupyter.createPythonEnvAndSelectController'>Create a Python Environment</a> with the required packages.\n",
            "\u001b[1;31mOr install 'ipykernel' using the command: 'c:/Users/Estagiario/AppData/Local/Microsoft/WindowsApps/python3.11.exe -m pip install ipykernel -U --user --force-reinstall'"
          ]
        }
      ],
      "source": [
        "import os\n",
        "import matplotlib.pyplot as plt\n",
        "import matplotlib.image as mpimg\n",
        "import random\n",
        "\n",
        "# Caminho local onde você descompactou o dataset\n",
        "base_dir = '/content/chest_xray/train'  # ajuste se necessário\n",
        "normal_dir = os.path.join(base_dir, 'NORMAL')\n",
        "pneumonia_dir = os.path.join(base_dir, 'PNEUMONIA')\n",
        "\n",
        "# Selecionar aleatoriamente algumas imagens de cada classe\n",
        "normal_imgs = random.sample(os.listdir(normal_dir), 3)\n",
        "pneumonia_imgs = random.sample(os.listdir(pneumonia_dir), 3)\n",
        "\n",
        "# Exibir imagens\n",
        "fig, axs = plt.subplots(2, 3, figsize=(12, 6))\n",
        "fig.suptitle('Amostras de imagens - NORMAL (linha 1) / PNEUMONIA (linha 2)', fontsize=14)\n",
        "\n",
        "for i, img_name in enumerate(normal_imgs):\n",
        "    img_path = os.path.join(normal_dir, img_name)\n",
        "    axs[0, i].imshow(mpimg.imread(img_path), cmap='gray')\n",
        "    axs[0, i].axis('off')\n",
        "\n",
        "for i, img_name in enumerate(pneumonia_imgs):\n",
        "    img_path = os.path.join(pneumonia_dir, img_name)\n",
        "    axs[1, i].imshow(mpimg.imread(img_path), cmap='gray')\n",
        "    axs[1, i].axis('off')\n",
        "\n",
        "plt.tight_layout()\n",
        "plt.show()\n"
      ]
    },
    {
      "cell_type": "markdown",
      "metadata": {
        "id": "rUPW64ESNJgR"
      },
      "source": [
        "# Abaixo algumas seções de exemplo\n",
        "\n",
        "> Pode haver mais, dependendo da sua aplicação. Para cada seção faça comentários explicando a tarefa e comentando/sumarizando os resultados."
      ]
    },
    {
      "cell_type": "markdown",
      "metadata": {
        "id": "GDzwn_5AMZ52"
      },
      "source": [
        "# **Preparação e transformação dos dados**\n",
        "\n"
      ]
    },
    {
      "cell_type": "code",
      "execution_count": null,
      "metadata": {},
      "outputs": [],
      "source": [
        "import tensorflow as tf\n",
        "from tensorflow.keras.preprocessing.image import ImageDataGenerator\n",
        "\n",
        "# Caminho do diretório com os dados\n",
        "train_dir = '/content/chest_xray/train'\n",
        "val_dir = '/content/chest_xray/val'\n",
        "test_dir = '/content/chest_xray/test'\n",
        "\n",
        "# Pré-processamento com aumento de dados para o conjunto de treino\n",
        "train_datagen = ImageDataGenerator(\n",
        "    rescale=1./255,\n",
        "    rotation_range=15,\n",
        "    zoom_range=0.1,\n",
        "    width_shift_range=0.1,\n",
        "    height_shift_range=0.1,\n",
        "    horizontal_flip=True\n",
        ")\n",
        "\n",
        "# Somente normalização para validação e teste\n",
        "val_test_datagen = ImageDataGenerator(rescale=1./255)\n",
        "\n",
        "# Geradores de imagens\n",
        "train_generator = train_datagen.flow_from_directory(\n",
        "    train_dir,\n",
        "    target_size=(150, 150),\n",
        "    batch_size=32,\n",
        "    class_mode='binary'\n",
        ")\n",
        "\n",
        "val_generator = val_test_datagen.flow_from_directory(\n",
        "    val_dir,\n",
        "    target_size=(150, 150),\n",
        "    batch_size=32,\n",
        "    class_mode='binary'\n",
        ")\n",
        "\n",
        "test_generator = val_test_datagen.flow_from_directory(\n",
        "    test_dir,\n",
        "    target_size=(150, 150),\n",
        "    batch_size=32,\n",
        "    class_mode='binary',\n",
        "    shuffle=False\n",
        ")\n"
      ]
    },
    {
      "cell_type": "markdown",
      "metadata": {
        "id": "mnJHmydNNfl0"
      },
      "source": [
        "# **Fine Tuning do modelo**\n"
      ]
    },
    {
      "cell_type": "code",
      "execution_count": null,
      "metadata": {},
      "outputs": [],
      "source": [
        "from tensorflow.keras.models import Sequential\n",
        "from tensorflow.keras.layers import Conv2D, MaxPooling2D, Flatten, Dense, Dropout\n",
        "from tensorflow.keras.callbacks import EarlyStopping, ModelCheckpoint\n",
        "\n",
        "# Construção da CNN\n",
        "model = Sequential([\n",
        "    Conv2D(32, (3, 3), activation='relu', input_shape=(150, 150, 3)),\n",
        "    MaxPooling2D(2, 2),\n",
        "    \n",
        "    Conv2D(64, (3, 3), activation='relu'),\n",
        "    MaxPooling2D(2, 2),\n",
        "    \n",
        "    Conv2D(128, (3, 3), activation='relu'),\n",
        "    MaxPooling2D(2, 2),\n",
        "    \n",
        "    Flatten(),\n",
        "    Dense(128, activation='relu'),\n",
        "    Dropout(0.5),\n",
        "    Dense(1, activation='sigmoid')  # Saída binária: normal ou pneumonia\n",
        "])\n",
        "\n",
        "# Compilação\n",
        "model.compile(optimizer='adam',\n",
        "              loss='binary_crossentropy',\n",
        "              metrics=['accuracy'])\n",
        "\n",
        "# Callbacks\n",
        "checkpoint = ModelCheckpoint('melhor_modelo.h5', monitor='val_accuracy', save_best_only=True, mode='max')\n",
        "early_stop = EarlyStopping(monitor='val_loss', patience=5, restore_best_weights=True)\n",
        "\n",
        "# Treinamento\n",
        "history = model.fit(\n",
        "    train_generator,\n",
        "    epochs=15,\n",
        "    validation_data=val_generator,\n",
        "    callbacks=[checkpoint, early_stop]\n",
        ")\n"
      ]
    },
    {
      "cell_type": "markdown",
      "metadata": {
        "id": "p1Evo4PmNhBY"
      },
      "source": [
        "# **Avaliação do modelo**\n",
        "\n"
      ]
    },
    {
      "cell_type": "code",
      "execution_count": null,
      "metadata": {},
      "outputs": [],
      "source": [
        "import matplotlib.pyplot as plt\n",
        "import numpy as np\n",
        "from sklearn.metrics import classification_report, confusion_matrix, ConfusionMatrixDisplay\n",
        "\n",
        "# Gráficos de acurácia e perda\n",
        "plt.figure(figsize=(12, 5))\n",
        "\n",
        "# Acurácia\n",
        "plt.subplot(1, 2, 1)\n",
        "plt.plot(history.history['accuracy'], label='Treino')\n",
        "plt.plot(history.history['val_accuracy'], label='Validação')\n",
        "plt.title('Acurácia')\n",
        "plt.xlabel('Épocas')\n",
        "plt.ylabel('Acurácia')\n",
        "plt.legend()\n",
        "\n",
        "# Perda\n",
        "plt.subplot(1, 2, 2)\n",
        "plt.plot(history.history['loss'], label='Treino')\n",
        "plt.plot(history.history['val_loss'], label='Validação')\n",
        "plt.title('Perda')\n",
        "plt.xlabel('Épocas')\n",
        "plt.ylabel('Loss')\n",
        "plt.legend()\n",
        "\n",
        "plt.tight_layout()\n",
        "plt.show()\n"
      ]
    },
    {
      "cell_type": "code",
      "execution_count": null,
      "metadata": {},
      "outputs": [],
      "source": [
        "# Previsões no conjunto de teste\n",
        "y_pred_probs = model.predict(test_generator)\n",
        "y_pred = (y_pred_probs > 0.5).astype(int).flatten()\n",
        "y_true = test_generator.classes\n",
        "\n",
        "# Matriz de confusão\n",
        "cm = confusion_matrix(y_true, y_pred)\n",
        "disp = ConfusionMatrixDisplay(confusion_matrix=cm, display_labels=['Normal', 'Pneumonia'])\n",
        "disp.plot(cmap=plt.cm.Blues)\n",
        "plt.title('Matriz de Confusão')\n",
        "plt.show()\n",
        "\n",
        "# Relatório de classificação\n",
        "print(\"Relatório de Classificação:\\n\")\n",
        "print(classification_report(y_true, y_pred, target_names=['Normal', 'Pneumonia']))\n"
      ]
    },
    {
      "cell_type": "markdown",
      "metadata": {
        "id": "ViQfwNxkNj0C"
      },
      "source": [
        "# **Consumo do modelo**"
      ]
    },
    {
      "cell_type": "code",
      "execution_count": null,
      "metadata": {},
      "outputs": [],
      "source": [
        "# Salve este código em um arquivo chamado app.py\n",
        "import streamlit as st\n",
        "import tensorflow as tf\n",
        "from tensorflow.keras.preprocessing import image\n",
        "import numpy as np\n",
        "from PIL import Image\n",
        "\n",
        "# Carrega o modelo treinado\n",
        "model = tf.keras.models.load_model('melhor_modelo.h5')\n",
        "\n",
        "st.title(\"Classificação de Raio-X: Pneumonia ou Normal\")\n",
        "st.write(\"Envie uma imagem de raio-X de tórax para verificar se há sinais de pneumonia.\")\n",
        "\n",
        "# Upload da imagem\n",
        "uploaded_file = st.file_uploader(\"Escolha uma imagem...\", type=[\"jpg\", \"jpeg\", \"png\"])\n",
        "\n",
        "if uploaded_file is not None:\n",
        "    img = Image.open(uploaded_file).convert(\"RGB\")\n",
        "    st.image(img, caption=\"Imagem Enviada\", use_column_width=True)\n",
        "\n",
        "    # Pré-processamento\n",
        "    img = img.resize((150, 150))\n",
        "    img_array = image.img_to_array(img) / 255.0\n",
        "    img_array = np.expand_dims(img_array, axis=0)\n",
        "\n",
        "    # Previsão\n",
        "    prediction = model.predict(img_array)\n",
        "    class_name = \"Pneumonia\" if prediction[0][0] > 0.5 else \"Normal\"\n",
        "    confidence = prediction[0][0] if prediction[0][0] > 0.5 else 1 - prediction[0][0]\n",
        "\n",
        "    st.subheader(f\"Resultado: **{class_name}**\")\n",
        "    st.write(f\"Confiança: {confidence * 100:.2f}%\")\n"
      ]
    },
    {
      "cell_type": "markdown",
      "metadata": {
        "id": "7LtXrRFr4hg3"
      },
      "source": [
        "# **Referências**\n",
        "\n",
        "Este é um item obrigatório. Inclua aqui o as referências, fontes, ou bibliografia e sites/bibliotecas que foram empregados para construir a sua proposta."
      ]
    },
    {
      "cell_type": "markdown",
      "metadata": {
        "id": "8crUBC3IQ3U_"
      },
      "source": [
        "---"
      ]
    },
    {
      "cell_type": "code",
      "execution_count": null,
      "metadata": {},
      "outputs": [],
      "source": [
        "- KAGGLE. Chest X-Ray Images (Pneumonia). Disponível em: https://www.kaggle.com/datasets/paultimothymooney/chest-xray-pneumonia\n",
        "- CHOLLET, François. *Deep Learning with Python*. 2. ed. Manning Publications, 2021.\n",
        "- TensorFlow Documentation: https://www.tensorflow.org/api_docs\n",
        "- Streamlit Documentation: https://docs.streamlit.io/\n",
        "- Scikit-learn Documentation: https://scikit-learn.org/\n",
        "- TUTORIAL: Pneumonia Detection Using CNN - Towards Data Science. Disponível em: https://towardsdatascience.com/\n"
      ]
    },
    {
      "cell_type": "code",
      "execution_count": null,
      "metadata": {
        "cellView": "form",
        "id": "BluFtfHuCGzm"
      },
      "outputs": [],
      "source": [
        "#@title **Avaliação**\n",
        "GitHub = 10 #@param {type:\"slider\", min:0, max:10, step:1}\n",
        "\n",
        "Implementacao_Model_Code = 7 #@param {type:\"slider\", min:0, max:10, step:1}\n",
        "\n",
        "Aplicacao_Streamlit = 9 #@param {type:\"slider\", min:0, max:10, step:1}\n",
        "\n",
        "Texto_Artigo  = 6 #@param {type:\"slider\", min:0, max:10, step:1}\n",
        "\n",
        "Video = 7 #@param {type:\"slider\", min:0, max:10, step:1}\n",
        "\n",
        "Geral = 7 #@param {type:\"slider\", min:0, max:10, step:1}\n",
        "\n",
        "\n",
        "\n",
        "\n",
        "\n",
        "\n"
      ]
    },
    {
      "cell_type": "code",
      "execution_count": null,
      "metadata": {
        "cellView": "form",
        "colab": {
          "base_uri": "https://localhost:8080/",
          "height": 160
        },
        "id": "2Gqw7hUZHyle",
        "outputId": "cf56d67f-e7bc-42f0-a81d-f1f808967e93"
      },
      "outputs": [],
      "source": [
        "#@title **Nota Final**\n",
        "\n",
        "nota = 2*GitHub + 4*Implementacao_Model_Code + 2*Aplicacao_Streamlit + 1*Texto_Artigo + 1*Video\n",
        "\n",
        "nota = nota / 10\n",
        "\n",
        "print(f'Nota final do trabalho {nota :.1f}')\n",
        "\n",
        "import numpy as np\n",
        "import pandas as pd\n",
        "\n",
        "alunos = pd.DataFrame()\n",
        "\n",
        "lista_tia = []\n",
        "lista_nome = []\n",
        "\n",
        "for i in range(1,6):\n",
        "  exec(\"if Aluno\" + str(i) + \" !='None':  lista = Aluno\" + str(i) + \".split(','); lista_tia.append(lista[0]); lista_nome.append(lista[1].upper())\")\n",
        "\n",
        "alunos['tia'] = lista_tia\n",
        "alunos['nome'] = lista_nome\n",
        "alunos['nota'] = np.round(nota,1)\n",
        "print()\n",
        "display(alunos)"
      ]
    }
  ],
  "metadata": {
    "colab": {
      "provenance": []
    },
    "kernelspec": {
      "display_name": "Python 3",
      "language": "python",
      "name": "python3"
    },
    "language_info": {
      "codemirror_mode": {
        "name": "ipython",
        "version": 3
      },
      "file_extension": ".py",
      "mimetype": "text/x-python",
      "name": "python",
      "nbconvert_exporter": "python",
      "pygments_lexer": "ipython3",
      "version": "3.11.9"
    }
  },
  "nbformat": 4,
  "nbformat_minor": 0
}
